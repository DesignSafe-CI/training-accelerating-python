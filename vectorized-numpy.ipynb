{
 "cells": [
  {
   "cell_type": "markdown",
   "id": "c902bbea",
   "metadata": {},
   "source": [
    "# Vectorized Calculation Using Numpy Arrays\n",
    "\n",
    "Numpy is a the fundamental package for scientific computing in Python. Although Numpy is a Python package, it was not developed in Python. Rather, it is written mostly in C and consists of binary executables compiled from source code. Numpy functions are therefore generally significantly faster than the same operations performed in Python. The term \"vectorized operation\" refers to passing an entire Numpy array of known data type to an optimized, compiled C code. The example below shows a simple calculation of a harmonic function using vectorized operations compared with the same operation in a Python loop. The vectorized calculation is much faster."
   ]
  },
  {
   "cell_type": "code",
   "execution_count": 20,
   "id": "97562f5c",
   "metadata": {},
   "outputs": [
    {
     "name": "stdout",
     "output_type": "stream",
     "text": [
      "Vectorized operation time: 0.00598 seconds\n",
      "Vectorized Python loop time: 4.02404 seconds\n",
      "Vectorized operation is 672.5 times faster\n"
     ]
    }
   ],
   "source": [
    "import numpy as np\n",
    "import time\n",
    "\n",
    "# time step in seconds\n",
    "dt = 0.005\n",
    "\n",
    "# Number of time steps\n",
    "N = 1000000\n",
    "\n",
    "# Frequency in Hz\n",
    "f = 2.0\n",
    "\n",
    "# Numpy array containing time vector consisting of 32 bit floating point precision values\n",
    "t = np.linspace(0, N * dt, N, dtype=np.float32)\n",
    "\n",
    "# Vectorized operation that passes time array into Numpy sin function\n",
    "vectorized_start_time = time.time()\n",
    "signal1 = np.sin(2.0 * np.pi * f * t)\n",
    "vectorized_end_time = time.time()\n",
    "print(\n",
    "    f\"Vectorized operation time: {vectorized_end_time - vectorized_start_time:.5f} seconds\"\n",
    ")\n",
    "\n",
    "# Non-vectorized operation that uses a Python for loop\n",
    "signal2 = np.empty(N)\n",
    "loop_start_time = time.time()\n",
    "for i in np.arange(N):\n",
    "    signal2[i] = np.sin(2.0 * np.pi * f * t[i])\n",
    "loop_end_time = time.time()\n",
    "print(f\"Vectorized Python loop time: {loop_end_time - loop_start_time:.5f} seconds\")\n",
    "\n",
    "# Ratio of execution times\n",
    "print(\n",
    "    f\"Vectorized operation is {(loop_end_time - loop_start_time) / (vectorized_end_time - vectorized_start_time):.1f} times faster\"\n",
    ")"
   ]
  }
 ],
 "metadata": {
  "kernelspec": {
   "display_name": "Python 3 (ipykernel)",
   "language": "python",
   "name": "python3"
  },
  "language_info": {
   "codemirror_mode": {
    "name": "ipython",
    "version": 3
   },
   "file_extension": ".py",
   "mimetype": "text/x-python",
   "name": "python",
   "nbconvert_exporter": "python",
   "pygments_lexer": "ipython3",
   "version": "3.9.12"
  }
 },
 "nbformat": 4,
 "nbformat_minor": 5
}
