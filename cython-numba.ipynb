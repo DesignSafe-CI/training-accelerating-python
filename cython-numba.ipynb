{
 "cells": [
  {
   "attachments": {},
   "cell_type": "markdown",
   "id": "6eab746b",
   "metadata": {},
   "source": [
    "# Hands-on Cython and Numba\n",
    "\n",
    "Python is a popular programming language in natural hazards engineering research because it is free and open-source, and has a plethora of powerful packages for handling our community’s computing needs. However, Python is an interpreted language and is inherently slower and less efficient than compiled languages like Fortran, C, and C++. As a result, many scripts written in Python, particularly those involving loops, can run significantly faster with a few minor modifications. This webinar will demonstrate how vectorized calculations using Numpy arrays and Scipy are significantly faster than the same operations coded in Python. We will demonstrate how to use Cython to compile Python code to C, which can improve performance by orders of magnitude. We will also demonstrate how to use just in time (JIT) compilation to accelerate Python, particularly using GPU’s.\n",
    "\n",
    "## Heat Flow Problem\n",
    "\n",
    "The relative performance of different coding approaches is demonstrated using a finite difference solution to the 2D transient heat flow problem for a square domain with a constant initial temperature subject to a temperature change on the top.\n",
    "\n",
    "## Governing differential equation\n",
    "\n",
    "$\\frac{\\partial T}{\\partial t} = \\alpha \\left[ \\frac{\\partial ^2 T}{\\partial x^2} + \\frac{\\partial^2 T}{\\partial y^2}\\right]$\n",
    "\n",
    "T = temperature  \n",
    "t = time  \n",
    "x = horizontal dimension  \n",
    "y = vertical dimension  \n",
    "$\\alpha$ = thermal diffusivity  \n",
    "\n",
    "## Finite different approximation for a rectangular mesh\n",
    "$\\frac{\\partial T}{\\partial t} \\approx \\frac{T_{ij}^{k+1} - T_{ij}^{k}}{\\Delta t}$  \n",
    "$\\frac{\\partial ^2 T}{\\partial x^2} \\approx \\alpha \\frac{T_{i+1,j}^k -2T_{i,j}^k + T_{i-1,j}^k}{\\Delta x^2}$  \n",
    "$\\frac{\\partial ^2 T}{\\partial y^2} \\approx \\alpha \\frac{T_{1,j+1}^k -2T_{i,j}^k + T_{i,j-1}^k}{\\Delta y^2}$  \n",
    "\n",
    "$\\Delta x$ = node spacing in x-direction  \n",
    "$\\Delta y$ = node spacing in y-direction\n",
    "$\\Delta t$ = time step\n",
    "i = index counter for x-direction  \n",
    "j = index counter for y-direction  \n",
    "k = index counter for time  \n",
    "\n",
    "### Resulting equation\n",
    "\n",
    "$\\frac{T_{ij}^{k+1} - T_{ij}^{k}}{\\Delta t} = \\alpha \\frac{T_{i+1,j}^k -2T_{i,j}^k + T_{i-1,j}^k}{\\Delta x^2} + \\alpha \\frac{T_{1,j+1}^k -2T_{i,j}^k + T_{i,j-1}^k}{\\Delta y^2}$  \n",
    "\n",
    "### If $\\Delta x = \\Delta y$ we obtain the following\n",
    "\n",
    "$\\frac{T_{ij}^{k+1} - T_{ij}^{k}}{\\Delta t} = \\alpha \\frac{T_{i+1,j}^k + T_{1,j+1}^k -4T_{i,j}^k + T_{i-1,j}^k + T_{i,j-1}^k}{\\Delta x^2}$  \n",
    "\n",
    "### Solving for $T_{ij}^{k+1}$ and re-arranging terms\n",
    "\n",
    "$T_{ij}^{k+1} = \\gamma\\left(T_{i+1,j}^k + T_{1,j+1}^k + T_{i-1,j}^k + T_{i,j-1}^k\\right) + \\left(1 - 4\\gamma\\right)T_{ij}^k$  \n",
    "\n",
    "where $\\gamma = \\frac{\\alpha \\Delta t}{\\Delta x^2}$\n",
    "\n",
    "\n",
    "### Note: the solution will become unstable if $\\left(1 - \\frac{4\\alpha \\Delta t}{\\Delta x^2} \\right) < 0$. We therefore set the time step as shown below.\n",
    "\n",
    "$\\Delta t = \\frac{\\Delta x^2}{4\\alpha}$  \n",
    "\n",
    "### Using the time step above, we find that $\\left(1-4\\gamma\\right)=0$ and therefore the resulting equation is:\n",
    "\n",
    "$T_{ij}^{k+1} = \\gamma\\left(T_{i+1,j}^k + T_{i,j+1}^k + T_{i-1,j}^k + T_{i,j-1}^k\\right)$  \n"
   ]
  },
  {
   "attachments": {},
   "cell_type": "markdown",
   "id": "da578653",
   "metadata": {},
   "source": [
    "## Define input variables\n",
    "\n",
    "`L`         = plate length  \n",
    "`Nt`        = number of time steps  \n",
    "`Nx`        = number of increments in x-direction (same as y-direction since plate is square)  \n",
    "`alpha`     = thermal diffusivity  \n",
    "`dx`        = node spacing  \n",
    "`dt`        = time increment  \n",
    "`T_top`     = temperature of top of plate  \n",
    "`T_left`    = temperature of left side of plate  \n",
    "`T_right`   = temperature of right side of plate  \n",
    "`T_bottom`  = temperature of bottom of plate  \n",
    "`T_initial` = initial temperature of plate  "
   ]
  },
  {
   "cell_type": "code",
   "execution_count": 1,
   "id": "064c734a",
   "metadata": {},
   "outputs": [],
   "source": [
    "import numpy as np\n",
    "import matplotlib.pyplot as plt\n",
    "\n",
    "L = 50\n",
    "Nt = 1000\n",
    "Nx = 50\n",
    "alpha = 2.0\n",
    "dx = L/Nx\n",
    "dt = dx**2/4.0/alpha\n",
    "gamma = alpha*dt/dx/dx\n",
    "T_top = 100.0\n",
    "T_left = 0.0\n",
    "T_right = 0.0\n",
    "T_bottom = 0.0\n",
    "T_initial = 0.0\n",
    "\n",
    "# Initialize Numpy array T to store temperature values\n",
    "T = np.full((Nt,Nx,Nx),T_initial,dtype=float)\n",
    "T[:,:,:1] = T_left\n",
    "T[:,:,Nx-1] = T_right\n",
    "T[:,:1,:] = T_bottom\n",
    "T[:,Nx-1:, :] = T_top\n"
   ]
  },
  {
   "cell_type": "code",
   "execution_count": 2,
   "id": "ca076977",
   "metadata": {},
   "outputs": [],
   "source": [
    "def calculate_python(T,gamma):\n",
    "    Nt = len(T)\n",
    "    Nx = len(T[0])\n",
    "    for k in range(0,Nt-1,1):\n",
    "        for i in range(1,Nx-1,1):\n",
    "            for j in range(1,Nx-1,1):\n",
    "                T[k+1,i,j] = gamma*(T[k,i+1,j] + T[k,i-1,j] + T[k,i,j+1] + T[k,i,j-1])\n",
    "    return T"
   ]
  },
  {
   "cell_type": "code",
   "execution_count": 3,
   "id": "f24e7834",
   "metadata": {},
   "outputs": [],
   "source": [
    "%load_ext cython"
   ]
  },
  {
   "cell_type": "code",
   "execution_count": 4,
   "id": "62cb6fa9",
   "metadata": {
    "scrolled": true
   },
   "outputs": [],
   "source": [
    "%%cython\n",
    "import cython\n",
    "import numpy as np\n",
    "cimport numpy as np\n",
    "\n",
    "@cython.boundscheck(False)\n",
    "@cython.wraparound(False) \n",
    "def calculate_cython(double[:,:,:] T, double gamma):\n",
    "    cdef int i, j, k\n",
    "    cdef int K = len(T)-1\n",
    "    cdef int I = len(T[0])-1\n",
    "    for k in range(0,K,1):\n",
    "        for i in range(1,I,1):\n",
    "            for j in range(1,I,1):\n",
    "                T[k+1][i][j] = gamma*(T[k][i+1][j] + T[k][i-1][j] + T[k][i][j+1] + T[k][i][j-1])\n",
    "    return np.asarray(T)"
   ]
  },
  {
   "cell_type": "markdown",
   "id": "c0ab142c",
   "metadata": {},
   "source": [
    "## Using Numba JIT"
   ]
  },
  {
   "cell_type": "code",
   "execution_count": 5,
   "id": "4edf2afe",
   "metadata": {},
   "outputs": [],
   "source": [
    "import numba\n",
    "import numpy as np\n",
    "from numba.typed import List\n",
    "\n",
    "@numba.jit(nopython=True)\n",
    "def calculate_numba(T, gamma):\n",
    "    Nt = len(T)\n",
    "    Nx = len(T[0])\n",
    "    for k in range(0, Nt - 1, 1):\n",
    "        for i in range(1, Nx - 1, 1):\n",
    "            for j in range(1, Nx - 1, 1):\n",
    "                T[k + 1, i, j] = gamma * (T[k, i + 1, j] + T[k, i - 1, j] + T[k, i, j + 1] + T[k, i, j - 1])\n",
    "    return T\n",
    "\n",
    "def calculate_numba_wrapper(T, gamma):\n",
    "    T_list = List()\n",
    "    T_list.append(np.asarray(T))\n",
    "    T_numba = calculate_numba(T_list[0], gamma)\n",
    "    return T_numba"
   ]
  },
  {
   "cell_type": "markdown",
   "id": "a048cb19",
   "metadata": {},
   "source": [
    "## Writing convolution rather than a loop"
   ]
  },
  {
   "cell_type": "code",
   "execution_count": 6,
   "id": "5089073e",
   "metadata": {},
   "outputs": [],
   "source": [
    "import numpy as np\n",
    "from scipy.signal import convolve\n",
    "\n",
    "def calculate_conv(T, gamma):\n",
    "    Nt = len(T)\n",
    "    Nx = len(T[0])\n",
    "    # Define the kernel for convolution (Laplacian operator)\n",
    "    kernel = np.array([[0, 1, 0],\n",
    "                       [1, -4, 1],\n",
    "                       [0, 1, 0]])\n",
    "\n",
    "    # Ensure u is a NumPy array\n",
    "    T = np.array(T)\n",
    "\n",
    "    for k in range(0,Nt - 1, 1):\n",
    "        # Convolve u[k] with the kernel, then multiply by gamma and add u[k]\n",
    "        T[k + 1, 1:Nx - 1:1, 1:Nx - 1:1] = (\n",
    "            gamma * convolve(T[k], kernel, mode='same')[1:Nx - 1:1, 1:Nx - 1:1] + T[k, 1:Nx - 1:1, 1:Nx - 1:1]\n",
    "        )\n",
    "    return T\n"
   ]
  },
  {
   "attachments": {},
   "cell_type": "markdown",
   "id": "fd675985",
   "metadata": {},
   "source": [
    "## Performance measurement"
   ]
  },
  {
   "cell_type": "code",
   "execution_count": 7,
   "id": "1220d45c",
   "metadata": {},
   "outputs": [
    {
     "name": "stdout",
     "output_type": "stream",
     "text": [
      "Pure Python time: = 2.892 seconds\n",
      "Cython time: = 0.000 seconds\n",
      "Numba time: = 1.205 seconds\n",
      "Python Convolution time: = 0.322 seconds\n"
     ]
    }
   ],
   "source": [
    "import time\n",
    "start_time = time.time()\n",
    "T_python = calculate_python(T, gamma)\n",
    "print(f\"Pure Python time: = {time.time() - start_time:.3f} seconds\")\n",
    "start_time = time.time()\n",
    "T_cython = calculate_cython(T, gamma)\n",
    "print(f\"Cython time: = {time.time() - start_time:.3f} seconds\")\n",
    "start_time = time.time()\n",
    "T_numba = calculate_numba_wrapper(T, gamma)\n",
    "print(f\"Numba time: = {time.time() - start_time:.3f} seconds\")\n",
    "start_time = time.time()\n",
    "T_convolve = calculate_conv(T, gamma)\n",
    "print(f\"Python Convolution time: = {time.time() - start_time:.3f} seconds\")"
   ]
  },
  {
   "cell_type": "markdown",
   "id": "c615c16d",
   "metadata": {},
   "source": [
    "## Plot heat maps to make sure the algorithms are the same"
   ]
  },
  {
   "cell_type": "code",
   "execution_count": 16,
   "id": "c3ecf2a3",
   "metadata": {},
   "outputs": [
    {
     "data": {
      "image/png": "[encoded data removed]",
      "text/plain": [
       "<Figure size 864x216 with 8 Axes>"
      ]
     },
     "metadata": {
      "needs_background": "light"
     },
     "output_type": "display_data"
    }
   ],
   "source": [
    "fig, ax = plt.subplots(ncols=4,figsize=(12,3),sharey='row')\n",
    "k = 999\n",
    "data = {'Python':T_python[k], 'Cython':T_cython[k], 'Numba':T_numba[k], 'Convolve':T_convolve[k]}\n",
    "i = 0\n",
    "for key, value in data.items():\n",
    "    pcm = ax[i].pcolormesh(value, cmap=plt.cm.viridis, vmin=0, vmax=100)\n",
    "    ax[i].set_xlabel('x-position')\n",
    "    ax[i].set_aspect('equal')\n",
    "    ax[i].annotate(key, xy=(1,1), c='white', fontsize=15)\n",
    "    fig.colorbar(pcm,ax=ax[i],shrink=0.75)\n",
    "    i+=1    \n",
    "ax[0].set_ylabel('y-position')\n",
    "#fig.colorbar(pcm)\n",
    "plt.tight_layout()"
   ]
  },
  {
   "attachments": {},
   "cell_type": "markdown",
   "id": "9f130ff6",
   "metadata": {},
   "source": [
    "## Large-scale problem\n",
    "\n",
    "Wow! Cython and Numba are so much faster than pure Python. It's difficult to observe differences in performance for such a small domain, so let's increase the mesh density so the calculations take a little bit longer"
   ]
  },
  {
   "cell_type": "code",
   "execution_count": 17,
   "id": "b233c23d",
   "metadata": {},
   "outputs": [
    {
     "name": "stdout",
     "output_type": "stream",
     "text": [
      "Cython time: = 0.282 seconds\n",
      "Numba time: = 0.564 seconds\n"
     ]
    }
   ],
   "source": [
    "L = 50\n",
    "Nt = 4000\n",
    "Nx = 200\n",
    "alpha = 2.0\n",
    "dx = L/Nx\n",
    "dt = dx**2/4.0/alpha\n",
    "T_top = 100.0\n",
    "T_left = 0.0\n",
    "T_right = 0.0\n",
    "T_bottom = 0.0\n",
    "T_initial = 0.0\n",
    "T = np.empty((Nt,Nx,Nx))\n",
    "T.fill(T_initial)\n",
    "T[:,:,:1] = T_left\n",
    "T[:,:,Nx-1] = T_right\n",
    "T[:,:1,:] = T_bottom\n",
    "T[:,Nx-1:, :] = T_top\n",
    "start_time = time.time()\n",
    "T_cython = calculate_cython(T, gamma)\n",
    "print(f\"Cython time: = {time.time() - start_time:.3f} seconds\")\n",
    "start_time = time.time()\n",
    "T_numba = calculate_numba_wrapper(T, gamma)\n",
    "print(f\"Numba time: = {time.time() - start_time:.3f} seconds\")"
   ]
  }
 ],
 "metadata": {
  "kernelspec": {
   "display_name": "Python 3 (ipykernel)",
   "language": "python",
   "name": "python3"
  },
  "language_info": {
   "codemirror_mode": {
    "name": "ipython",
    "version": 3
   },
   "file_extension": ".py",
   "mimetype": "text/x-python",
   "name": "python",
   "nbconvert_exporter": "python",
   "pygments_lexer": "ipython3",
   "version": "3.9.12"
  }
 },
 "nbformat": 4,
 "nbformat_minor": 5
}
